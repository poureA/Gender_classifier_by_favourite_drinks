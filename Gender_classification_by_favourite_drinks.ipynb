{
 "cells": [
  {
   "cell_type": "code",
   "execution_count": 522,
   "id": "90e89e50",
   "metadata": {},
   "outputs": [],
   "source": [
    "from pandas import read_csv , get_dummies , DataFrame\n",
    "from sklearn.tree import DecisionTreeClassifier\n",
    "from sklearn.preprocessing import LabelEncoder\n",
    "from sklearn.preprocessing import StandardScaler\n",
    "from sklearn.model_selection import train_test_split\n",
    "encoder = LabelEncoder()\n",
    "scaler = StandardScaler()"
   ]
  },
  {
   "cell_type": "code",
   "execution_count": 523,
   "id": "a3530f07",
   "metadata": {},
   "outputs": [
    {
     "data": {
      "text/html": [
       "<div>\n",
       "<style scoped>\n",
       "    .dataframe tbody tr th:only-of-type {\n",
       "        vertical-align: middle;\n",
       "    }\n",
       "\n",
       "    .dataframe tbody tr th {\n",
       "        vertical-align: top;\n",
       "    }\n",
       "\n",
       "    .dataframe thead th {\n",
       "        text-align: right;\n",
       "    }\n",
       "</style>\n",
       "<table border=\"1\" class=\"dataframe\">\n",
       "  <thead>\n",
       "    <tr style=\"text-align: right;\">\n",
       "      <th></th>\n",
       "      <th>Favorite Color</th>\n",
       "      <th>Favorite Music Genre</th>\n",
       "      <th>Favorite Beverage</th>\n",
       "      <th>Favorite Soft Drink</th>\n",
       "      <th>Gender</th>\n",
       "    </tr>\n",
       "  </thead>\n",
       "  <tbody>\n",
       "    <tr>\n",
       "      <th>61</th>\n",
       "      <td>Cool</td>\n",
       "      <td>Rock</td>\n",
       "      <td>Vodka</td>\n",
       "      <td>Coca Cola/Pepsi</td>\n",
       "      <td>M</td>\n",
       "    </tr>\n",
       "    <tr>\n",
       "      <th>33</th>\n",
       "      <td>Warm</td>\n",
       "      <td>R&amp;B and soul</td>\n",
       "      <td>Wine</td>\n",
       "      <td>Other</td>\n",
       "      <td>M</td>\n",
       "    </tr>\n",
       "    <tr>\n",
       "      <th>4</th>\n",
       "      <td>Cool</td>\n",
       "      <td>Rock</td>\n",
       "      <td>Vodka</td>\n",
       "      <td>Coca Cola/Pepsi</td>\n",
       "      <td>F</td>\n",
       "    </tr>\n",
       "    <tr>\n",
       "      <th>19</th>\n",
       "      <td>Cool</td>\n",
       "      <td>Pop</td>\n",
       "      <td>Doesn't drink</td>\n",
       "      <td>7UP/Sprite</td>\n",
       "      <td>F</td>\n",
       "    </tr>\n",
       "    <tr>\n",
       "      <th>30</th>\n",
       "      <td>Warm</td>\n",
       "      <td>Rock</td>\n",
       "      <td>Other</td>\n",
       "      <td>Coca Cola/Pepsi</td>\n",
       "      <td>F</td>\n",
       "    </tr>\n",
       "    <tr>\n",
       "      <th>18</th>\n",
       "      <td>Cool</td>\n",
       "      <td>Rock</td>\n",
       "      <td>Other</td>\n",
       "      <td>Coca Cola/Pepsi</td>\n",
       "      <td>F</td>\n",
       "    </tr>\n",
       "    <tr>\n",
       "      <th>11</th>\n",
       "      <td>Warm</td>\n",
       "      <td>Pop</td>\n",
       "      <td>Other</td>\n",
       "      <td>7UP/Sprite</td>\n",
       "      <td>F</td>\n",
       "    </tr>\n",
       "    <tr>\n",
       "      <th>59</th>\n",
       "      <td>Cool</td>\n",
       "      <td>Pop</td>\n",
       "      <td>Whiskey</td>\n",
       "      <td>Other</td>\n",
       "      <td>M</td>\n",
       "    </tr>\n",
       "    <tr>\n",
       "      <th>15</th>\n",
       "      <td>Warm</td>\n",
       "      <td>Jazz/Blues</td>\n",
       "      <td>Wine</td>\n",
       "      <td>Coca Cola/Pepsi</td>\n",
       "      <td>F</td>\n",
       "    </tr>\n",
       "    <tr>\n",
       "      <th>50</th>\n",
       "      <td>Cool</td>\n",
       "      <td>R&amp;B and soul</td>\n",
       "      <td>Doesn't drink</td>\n",
       "      <td>Coca Cola/Pepsi</td>\n",
       "      <td>M</td>\n",
       "    </tr>\n",
       "  </tbody>\n",
       "</table>\n",
       "</div>"
      ],
      "text/plain": [
       "   Favorite Color Favorite Music Genre  ... Favorite Soft Drink Gender\n",
       "61           Cool                 Rock  ...     Coca Cola/Pepsi      M\n",
       "33           Warm         R&B and soul  ...               Other      M\n",
       "4            Cool                 Rock  ...     Coca Cola/Pepsi      F\n",
       "19           Cool                  Pop  ...          7UP/Sprite      F\n",
       "30           Warm                 Rock  ...     Coca Cola/Pepsi      F\n",
       "18           Cool                 Rock  ...     Coca Cola/Pepsi      F\n",
       "11           Warm                  Pop  ...          7UP/Sprite      F\n",
       "59           Cool                  Pop  ...               Other      M\n",
       "15           Warm           Jazz/Blues  ...     Coca Cola/Pepsi      F\n",
       "50           Cool         R&B and soul  ...     Coca Cola/Pepsi      M\n",
       "\n",
       "[10 rows x 5 columns]"
      ]
     },
     "execution_count": 523,
     "metadata": {},
     "output_type": "execute_result"
    }
   ],
   "source": [
    "path = \"D:\\\\datasets\\\\Gender_classifier\\\\Transformed Data Set - Sheet1.csv\"\n",
    "file = read_csv(path)\n",
    "df = file.copy()\n",
    "df.sample(10)"
   ]
  },
  {
   "cell_type": "code",
   "execution_count": 524,
   "id": "ef09a12e",
   "metadata": {},
   "outputs": [
    {
     "name": "stdout",
     "output_type": "stream",
     "text": [
      "Favorite Color\n",
      "Cool       37\n",
      "Warm       22\n",
      "Neutral     7\n",
      "Name: Favorite Color, dtype: int64\n",
      "Favorite Music Genre\n",
      "Rock                19\n",
      "Pop                 17\n",
      "Hip hop              8\n",
      "Electronic           8\n",
      "R&B and soul         6\n",
      "Folk/Traditional     4\n",
      "Jazz/Blues           4\n",
      "Name: Favorite Music Genre, dtype: int64\n",
      "Favorite Beverage\n",
      "Doesn't drink    14\n",
      "Beer             13\n",
      "Other            11\n",
      "Wine             10\n",
      "Vodka             9\n",
      "Whiskey           9\n",
      "Name: Favorite Beverage, dtype: int64\n",
      "Favorite Soft Drink\n",
      "Coca Cola/Pepsi    32\n",
      "Fanta              14\n",
      "7UP/Sprite         13\n",
      "Other               7\n",
      "Name: Favorite Soft Drink, dtype: int64\n",
      "Gender\n",
      "F    33\n",
      "M    33\n",
      "Name: Gender, dtype: int64\n"
     ]
    }
   ],
   "source": [
    "for col in df.columns :\n",
    "    print(col)\n",
    "    print(df[col].value_counts(ascending=False))"
   ]
  },
  {
   "cell_type": "code",
   "execution_count": 525,
   "id": "bd7f1885",
   "metadata": {},
   "outputs": [
    {
     "name": "stdout",
     "output_type": "stream",
     "text": [
      "<class 'pandas.core.frame.DataFrame'>\n",
      "RangeIndex: 66 entries, 0 to 65\n",
      "Data columns (total 5 columns):\n",
      " #   Column                Non-Null Count  Dtype \n",
      "---  ------                --------------  ----- \n",
      " 0   Favorite Color        66 non-null     object\n",
      " 1   Favorite Music Genre  66 non-null     object\n",
      " 2   Favorite Beverage     66 non-null     object\n",
      " 3   Favorite Soft Drink   66 non-null     object\n",
      " 4   Gender                66 non-null     object\n",
      "dtypes: object(5)\n",
      "memory usage: 2.7+ KB\n"
     ]
    }
   ],
   "source": [
    "df.info()"
   ]
  },
  {
   "cell_type": "code",
   "execution_count": 526,
   "id": "0d2dac64",
   "metadata": {},
   "outputs": [],
   "source": [
    "label = df.Gender\n",
    "df = df.drop(['Gender'],axis=1)"
   ]
  },
  {
   "cell_type": "code",
   "execution_count": 527,
   "id": "14740f16",
   "metadata": {},
   "outputs": [
    {
     "data": {
      "text/plain": [
       "array([[ 0.88531564, -0.34444748, -0.70710678, ..., -0.9701425 ,\n",
       "        -0.51887452, -0.34444748],\n",
       "       [-1.12954065,  2.9032002 , -0.70710678, ...,  1.03077641,\n",
       "        -0.51887452, -0.34444748],\n",
       "       [-1.12954065, -0.34444748,  1.41421356, ...,  1.03077641,\n",
       "        -0.51887452, -0.34444748],\n",
       "       ...,\n",
       "       [-1.12954065,  2.9032002 , -0.70710678, ..., -0.9701425 ,\n",
       "         1.92724822, -0.34444748],\n",
       "       [ 0.88531564, -0.34444748, -0.70710678, ...,  1.03077641,\n",
       "        -0.51887452, -0.34444748],\n",
       "       [ 0.88531564, -0.34444748, -0.70710678, ...,  1.03077641,\n",
       "        -0.51887452, -0.34444748]])"
      ]
     },
     "execution_count": 527,
     "metadata": {},
     "output_type": "execute_result"
    }
   ],
   "source": [
    "encoded_df = get_dummies(df).to_numpy()\n",
    "encoded_df = scaler.fit_transform(encoded_df)\n",
    "encoded_df"
   ]
  },
  {
   "cell_type": "code",
   "execution_count": 528,
   "id": "b1a63ff4",
   "metadata": {},
   "outputs": [],
   "source": [
    "encoded_lbl = encoder.fit_transform(label)"
   ]
  },
  {
   "cell_type": "code",
   "execution_count": 529,
   "id": "0a862c81",
   "metadata": {},
   "outputs": [],
   "source": [
    "xtr , xts , ytr , yts = train_test_split(encoded_df,encoded_lbl,test_size=0.5,random_state=5)"
   ]
  },
  {
   "cell_type": "code",
   "execution_count": 530,
   "id": "7825de63",
   "metadata": {},
   "outputs": [],
   "source": [
    "model = DecisionTreeClassifier().fit(encoded_df,encoded_lbl)"
   ]
  },
  {
   "cell_type": "code",
   "execution_count": 531,
   "id": "60822efc",
   "metadata": {},
   "outputs": [
    {
     "data": {
      "text/plain": [
       "95.45454545454545"
      ]
     },
     "execution_count": 531,
     "metadata": {},
     "output_type": "execute_result"
    }
   ],
   "source": [
    "model.score(encoded_df,encoded_lbl)*100"
   ]
  },
  {
   "cell_type": "code",
   "execution_count": 532,
   "id": "52164062",
   "metadata": {},
   "outputs": [
    {
     "data": {
      "text/plain": [
       "93.93939393939394"
      ]
     },
     "execution_count": 532,
     "metadata": {},
     "output_type": "execute_result"
    }
   ],
   "source": [
    "model.score(xts,yts)*100"
   ]
  }
 ],
 "metadata": {
  "kernelspec": {
   "display_name": "Python 3 (ipykernel)",
   "language": "python",
   "name": "python3"
  },
  "language_info": {
   "codemirror_mode": {
    "name": "ipython",
    "version": 3
   },
   "file_extension": ".py",
   "mimetype": "text/x-python",
   "name": "python",
   "nbconvert_exporter": "python",
   "pygments_lexer": "ipython3",
   "version": "3.9.13"
  }
 },
 "nbformat": 4,
 "nbformat_minor": 5
}
